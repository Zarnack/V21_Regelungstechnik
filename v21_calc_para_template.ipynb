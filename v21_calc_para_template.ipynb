{
 "cells": [
  {
   "cell_type": "markdown",
   "metadata": {},
   "source": [
    "# V21 Skript zum komfortablen Berechnen von Parametern\n",
    "\n",
    "Sie sollten dieses Skript so anpassen, dass Sie im Versuch zusammen mit den experimentell bestimmten Parametern sowie den in der Vorbereitung ermittelten Ausdrücken für die Parameter der Übertragungsfunktion schnell alles weitere berechnen können, um nicht unnötig mit dem Taschenrechner herumhantieren zu müssen.\n",
    "\n",
    "Beachten Sie, dass Sie in SI-Einheiten rechnen!"
   ]
  },
  {
   "cell_type": "code",
   "execution_count": null,
   "metadata": {
    "collapsed": true
   },
   "outputs": [],
   "source": [
    "%matplotlib inline\n",
    "import numpy as np\n",
    "import matplotlib.pyplot as mpl"
   ]
  },
  {
   "cell_type": "code",
   "execution_count": null,
   "metadata": {
    "collapsed": true
   },
   "outputs": [],
   "source": [
    "AB = 2.8274e-3  # Ballquerschnitt in m^2 \n",
    "ASp = 0.4299e-3 # Luftspaltfläche in m^2\n",
    "g = 9.81        # Erdbeschleunigung in m/s^2\n",
    "m = 2.8e-3      # Masse des Balls in kg\n",
    "XXX = 1.23      # nur Platzhaltervariable, damit Skript durchläuft"
   ]
  },
  {
   "cell_type": "markdown",
   "metadata": {},
   "source": [
    "Experimentell bestimmte Grunddrehzahl in s^{-1}"
   ]
  },
  {
   "cell_type": "code",
   "execution_count": null,
   "metadata": {
    "collapsed": false
   },
   "outputs": [],
   "source": [
    "eta0 = XXX\n",
    "print('eta0 = %e s^{-1}' % eta0)"
   ]
  },
  {
   "cell_type": "markdown",
   "metadata": {},
   "source": [
    "Formel zur Berechnung von kL"
   ]
  },
  {
   "cell_type": "code",
   "execution_count": null,
   "metadata": {
    "collapsed": false
   },
   "outputs": [],
   "source": [
    "hDotExp = XXX  # experimentell bestimmter Wert für die Fallgeschwindigkeit des Balls in m/s\n",
    "kL = XXX\n",
    "print('kL = %e kg/m' % kL)"
   ]
  },
  {
   "cell_type": "markdown",
   "metadata": {},
   "source": [
    "Formel zur Berechnung von kV (Wurzel -> np.sqrt(...))"
   ]
  },
  {
   "cell_type": "code",
   "execution_count": null,
   "metadata": {
    "collapsed": false
   },
   "outputs": [],
   "source": [
    "hDotExp = XXX  # experimentell bestimmter Wert für die Steiggeschwindigkeit des Balls in m/s\n",
    "etaExp = XXX  # experimentell bestimmter Wert für die Lüfterdrehgeschwindigkeit während des Steigens in s^{-1}\n",
    "kV = XXX\n",
    "print('kV = %e m^3' % kV)"
   ]
  },
  {
   "cell_type": "markdown",
   "metadata": {},
   "source": [
    "Bestimmte Werte für kM und TM aus Identifikationsskript"
   ]
  },
  {
   "cell_type": "code",
   "execution_count": null,
   "metadata": {
    "collapsed": false
   },
   "outputs": [],
   "source": [
    "kM = XXX\n",
    "TM = XXX\n",
    "print('kM = %e s^{-1}, TM = %e s' % (kM, TM))"
   ]
  },
  {
   "cell_type": "markdown",
   "metadata": {},
   "source": [
    "Berechnung der Standard-Parameter der Übertragungsfunkion"
   ]
  },
  {
   "cell_type": "code",
   "execution_count": null,
   "metadata": {
    "collapsed": false
   },
   "outputs": [],
   "source": [
    "K = XXX\n",
    "T0 = XXX\n",
    "T1 = XXX\n",
    "T2 = XXX\n",
    "print('K = %e m, T0 = %e s, T1 = %e s, T2 = %e s' % (K, T0, T1, T2))"
   ]
  },
  {
   "cell_type": "markdown",
   "metadata": {},
   "source": [
    "Berechnung der Reglerparameter nach dem ... Optimum"
   ]
  },
  {
   "cell_type": "code",
   "execution_count": null,
   "metadata": {
    "collapsed": false
   },
   "outputs": [],
   "source": [
    "Kp = XXX\n",
    "Ti = XXX\n",
    "Td = XXX\n",
    "print('Kp = %e m^{-1}, Ti = %e s, Td = %e s' % (Kp, Ti, Td))"
   ]
  }
 ],
 "metadata": {
  "kernelspec": {
   "display_name": "Python 3",
   "language": "python",
   "name": "python3"
  },
  "language_info": {
   "codemirror_mode": {
    "name": "ipython",
    "version": 3
   },
   "file_extension": ".py",
   "mimetype": "text/x-python",
   "name": "python",
   "nbconvert_exporter": "python",
   "pygments_lexer": "ipython3",
   "version": "3.5.2"
  }
 },
 "nbformat": 4,
 "nbformat_minor": 1
}
